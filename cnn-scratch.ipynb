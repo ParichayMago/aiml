{
 "cells": [
  {
   "cell_type": "markdown",
   "id": "42d5f929-aff5-4bef-9797-b50deaa01aa7",
   "metadata": {},
   "source": [
    "https://arxiv.org/pdf/1603.07285\n",
    "\n",
    "<h1> what are convolutions? </h1>\n",
    "cnn is a type of deep learning algo used for feature extractio\n",
    "keren is the filter layer which multiplies with the image tensor\n",
    "padding:\n",
    "using cnn, the nn will lose its feature in the edges thats for sure: \n",
    "<link> https://www.digitalocean.com/community/tutorials/padding-in-convolutional-neural-networks</link>\n",
    "\n",
    "but we can add padding to minize the loss of feature on the ediges\n",
    "a 5x5 pic going through 3x3 fileter would result in the loss of 2 pixel (3-1)\n",
    "thus adding padding of 2 pixel would save the features of the image\n",
    "\n",
    "\n",
    "img = (x,y), filter/kernel = (m,n)\n",
    "final tenson = \n",
    "x - m + 1 or 5 - 3 + 1,\n",
    "y - n + 1 or 5 - 3 + 1\n",
    "\n",
    "<p>\n",
    "\n",
    "convo layer:\n",
    "\n",
    "kernel init\n",
    "kernel * input tensor\n",
    "\n",
    "pooling: downsampling the input array \n",
    "28x28 -> 14x14\n",
    "</p>\n",
    "\n",
    "<p>\n",
    "    Filter also have depth just like image\n",
    "    1 filter will produce 1 output which can have depth\n",
    "\n",
    "</p>"
   ]
  },
  {
   "cell_type": "raw",
   "id": "1a22cf5d-fdd6-41ab-a253-58e346ef0e1e",
   "metadata": {},
   "source": [
    "INPUT -> [[CONV -> RELU]*N POOL?] * M -> [FC -> RELU]*K ->FC"
   ]
  },
  {
   "cell_type": "markdown",
   "id": "411e1e70-16c8-4d1b-9c87-6e79bd0fbb4a",
   "metadata": {},
   "source": [
    "F=Filter dim\n",
    "K=depth of a filter"
   ]
  },
  {
   "cell_type": "code",
   "execution_count": 3,
   "id": "766adddc-f40b-4457-9241-4b181e7ee94b",
   "metadata": {},
   "outputs": [],
   "source": [
    "import numpy as np"
   ]
  },
  {
   "cell_type": "code",
   "execution_count": 26,
   "id": "1fe29c8c-dc8e-4928-aa97-fff764fd1b38",
   "metadata": {},
   "outputs": [
    {
     "data": {
      "text/plain": [
       "(array([[0, 1],\n",
       "        [2, 3]]),\n",
       " array([[4, 5],\n",
       "        [6, 7]]))"
      ]
     },
     "execution_count": 26,
     "metadata": {},
     "output_type": "execute_result"
    }
   ],
   "source": [
    "x,y"
   ]
  },
  {
   "cell_type": "code",
   "execution_count": 29,
   "id": "b6bae9ea-8e66-43bb-8a95-c1ccc84eb2dd",
   "metadata": {},
   "outputs": [
    {
     "data": {
      "text/plain": [
       "38"
      ]
     },
     "execution_count": 29,
     "metadata": {},
     "output_type": "execute_result"
    }
   ],
   "source": [
    "x = np.arange(0,4).reshape(2,2)\n",
    "y = np.arange(4,8).reshape(2,2)\n",
    "np.dot(x,y)\n",
    "np.sum(x * y) \n",
    "\n"
   ]
  },
  {
   "cell_type": "code",
   "execution_count": 16,
   "id": "f70f633d-1c2a-424b-b3b8-10c4a9201a43",
   "metadata": {},
   "outputs": [],
   "source": [
    "# If we add a kernel of size ks by ks (with ks an odd number), the necessary padding on each side to keep the same shape is ks/2\n",
    "class Cnn:\n",
    "    def __init__(self, inputArr, k_dim = 3, padding = True, strding=1):\n",
    "        self.input = inputArr\n",
    "        self.strding = 1 \n",
    "        self.padding = k_dim-1\n",
    "    \n",
    "    def forward(self):\n",
    "        w1 = kernel(dim)\n",
    "        inputArr_wp = addPadding(self.input) \n",
    "        inptArr2 = \n",
    "\n",
    "\n",
    "class Cnn\n",
    "    "
   ]
  },
  {
   "cell_type": "code",
   "execution_count": 2,
   "id": "18fe3262-c26c-4445-a27d-779e3facbb19",
   "metadata": {},
   "outputs": [],
   "source": [
    "def randDim(dim):\n",
    "    return np.random.rand(dim, dim)"
   ]
  },
  {
   "cell_type": "code",
   "execution_count": 8,
   "id": "e06cf725-04d0-4402-b133-3f71fc584923",
   "metadata": {},
   "outputs": [],
   "source": [
    "# i want to multiply m1[i, j] with m[i, j] and return the sum of all the output \n"
   ]
  },
  {
   "cell_type": "code",
   "execution_count": 4,
   "id": "fc7838b5-3bd5-47ee-913b-1e661879db93",
   "metadata": {},
   "outputs": [],
   "source": []
  },
  {
   "cell_type": "code",
   "execution_count": 7,
   "id": "8d3a723e-a283-4a77-9e68-cd06af2b938f",
   "metadata": {},
   "outputs": [
    {
     "data": {
      "text/plain": [
       "3"
      ]
     },
     "execution_count": 7,
     "metadata": {},
     "output_type": "execute_result"
    }
   ],
   "source": [
    "# n_tensor = tensor.shape[0]\n",
    "tensor = randDim(6)\n",
    "kernel= randDim(4)\n",
    "def outPutDim(inputDim, k_dim, pad, strid):\n",
    "    return int((( inputDim - k_dim) + (2 * pad))/strid + 1)\n",
    "\n",
    "# n_tensor = addPadding(n_tensor)\n",
    "outPutDim(tensor.shape[0], kernel.shape[0], 1, 2)"
   ]
  },
  {
   "cell_type": "code",
   "execution_count": 29,
   "id": "52b049d0-9310-48cb-ba40-bf107fe1fb8a",
   "metadata": {},
   "outputs": [
    {
     "name": "stdout",
     "output_type": "stream",
     "text": [
      "5\n",
      "48.0\n",
      "56.0\n",
      "64.0\n",
      "72.0\n",
      "63.0\n",
      "88.0\n",
      "96.0\n",
      "104.0\n",
      "112.0\n",
      "98.0\n",
      "128.0\n",
      "136.0\n",
      "144.0\n",
      "152.0\n",
      "133.0\n",
      "168.0\n",
      "176.0\n",
      "184.0\n",
      "192.0\n",
      "168.0\n",
      "105.0\n",
      "110.0\n",
      "115.0\n",
      "120.0\n",
      "96.0\n"
     ]
    }
   ],
   "source": [
    "inpTen = np.arange(0, 25).reshape(5, 5)\n",
    "ker = np.arange(0, 9).reshape(3,3)\n",
    "    # inpTen, ker\n",
    "striding = 1\n",
    "padding = 1\n",
    "oDim = int(((inpTen.shape[0] - ker.shape[0]) + (2 * padding))/striding + 1) #2+2/2 1\n",
    "print(oDim)\n",
    "inpTen = addPadding(inpTen, padding)\n",
    "out = np.zeros(oDim * oDim)\n",
    "\n",
    "startCols = ker.shape[0]-1 # start cols would target top right edge of kernel and input array overlap\n",
    "maxCols = inpTen.shape[0]  #maxCols would be till the end of the input Arry hence \n",
    "maxRows = inpTen.shape[0] - ker.shape[0] + 1 #max rows will depend upop input and kernel as we dont want kernel to go out of bound of input\n",
    "\n",
    "# [[print(i,j) for j in range(startCols, maxCols, striding)] for i in range(0, maxRows)];\n",
    "\n",
    "[[print(stridingMatMulSum(i, j, ker)) for j in range(startCols, maxCols, striding)] for i in range(0, maxRows, striding)];"
   ]
  },
  {
   "cell_type": "code",
   "execution_count": 28,
   "id": "6e45385d-c233-443d-be90-d52b543682f7",
   "metadata": {},
   "outputs": [],
   "source": [
    "import numpy as np\n",
    "\n",
    "def mse(pred, y):\n",
    "    return ((y - pred)**2)*0.5\n",
    "\n",
    "def softmax(x): \n",
    "    return np.exp(x)/sum(np.exp(x))\n",
    "\n",
    "def matmul(inpTen, weight, bias):\n",
    "    # print(weight.shape, inpTen.shape)\n",
    "    return weight @ inpTen + bias # Inp(16, 1)\n",
    "\n",
    "def relu(inputTen):\n",
    "    return inputTen * (inputTen > 0)\n",
    "\n",
    "def crossEntropyLoss(preds, target):\n",
    "    # preds_clip = (preds == preds.max()) *1\n",
    "    return (-(target * np.log(preds))).max()\n"
   ]
  },
  {
   "cell_type": "code",
   "execution_count": 161,
   "id": "3232e77c-560f-4d46-b7f7-5b45643940ca",
   "metadata": {},
   "outputs": [
    {
     "data": {
      "text/plain": [
       "array([[-0.17412229],\n",
       "       [ 0.43759796],\n",
       "       [ 0.56831197],\n",
       "       [-0.67134861],\n",
       "       [ 0.18865578],\n",
       "       [ 0.19140119],\n",
       "       [ 1.95316819],\n",
       "       [-0.38867115],\n",
       "       [-0.71889078],\n",
       "       [-0.79060418]])"
      ]
     },
     "execution_count": 161,
     "metadata": {},
     "output_type": "execute_result"
    }
   ],
   "source": [
    "# print(x)\n",
    "epsilon=1e-12\n",
    "np.clip(x, epsilon, 1-epsilon)\n",
    "x"
   ]
  },
  {
   "cell_type": "code",
   "execution_count": 164,
   "id": "2d5ef4c9-97f0-488c-8eb5-85748ace0f76",
   "metadata": {},
   "outputs": [
    {
     "data": {
      "text/plain": [
       "1"
      ]
     },
     "execution_count": 164,
     "metadata": {},
     "output_type": "execute_result"
    }
   ],
   "source": [
    "new_mat = np.zeros(x.shape)  # our zeros and ones will go here\n",
    "c= new_mat[np.argmax(x, axis=0), np.arange(x.shape[1])] = 1\n",
    "c"
   ]
  },
  {
   "cell_type": "code",
   "execution_count": 5,
   "id": "4ab361ae-19f7-47f3-9565-a9fe714d300a",
   "metadata": {},
   "outputs": [
    {
     "name": "stdout",
     "output_type": "stream",
     "text": [
      "14\n"
     ]
    },
    {
     "data": {
      "text/plain": [
       "(14, 14)"
      ]
     },
     "execution_count": 5,
     "metadata": {},
     "output_type": "execute_result"
    }
   ],
   "source": [
    "inpTen = np.arange(0, 784).reshape(28,28)\n",
    "\n",
    "strid = 2\n",
    "padding = 1\n",
    "\n",
    "class convo1d:\n",
    "    def __init__(self):\n",
    "        self.input = inpTen \n",
    "        # self.filter_Dim =\n",
    "        self.padding = padding\n",
    "        self.strid= strid\n",
    "        \n",
    "    def feedforward(self):\n",
    "        self.c1 = convo(self.input, self.strid, self.padding)\n",
    "        self.c2 = convo(self.l1, self.strid, self.padding)\n",
    "        self.c3 = \n",
    "        self.\n",
    "\n",
    "\n",
    "\n",
    "def addPadding(m1, padding=1):\n",
    "    int(padding)\n",
    "    if padding == 0: return m1\n",
    "    \n",
    "    # row padding init\n",
    "    m2 = np.zeros((padding, m1.shape[1])) #m1 =3x3 then m2 = 1x3\n",
    "    \n",
    "    # adding rows of padding\n",
    "    m3 = np.concatenate((m1, m2), axis=0) #m1 = 3x3 & m2=1x3 at axis = 0 column match() at axis = 1 row match\n",
    "    m3 = np.concatenate((m2, m3), axis=0) \n",
    "    m3 # 5x3\n",
    "    # to add 2 column of zerors\n",
    "    \n",
    "    # init col of padding\n",
    "    m4 = np.zeros((m3.shape[0], padding)) #m4 = 5 x 1\n",
    "    \n",
    "    # adding col padding to the arr\n",
    "    m3 = np.concatenate((m3, m4), axis=1)\n",
    "    m3 = np.concatenate((m4, m3), axis=1)\n",
    "    m3.shape\n",
    "    return m3\n",
    "        \n",
    "def stridingMatMulSum(i, j, ker, inpTen):\n",
    "    k_dim = ker.shape[0]\n",
    "    \n",
    "    rowStart = i\n",
    "    rowEnd = k_dim + i\n",
    "    \n",
    "    colEnd = j + 1  \n",
    "    colStart = (j+1)-k_dim\n",
    "    # print(np.dot(inpTen[rowStart:rowEnd, colStart:colEnd], ker))\n",
    "    return (inpTen[rowStart:rowEnd, colStart:colEnd] * ker).max();\n",
    "\n",
    "\n",
    "def convo2d(inpTen, striding, padding):\n",
    "    # init the kernel in the convo layer\n",
    "    ker = np.random.randn(3,3)\n",
    "\n",
    "    \n",
    "    # calculating dim\n",
    "    oDim = int(((inpTen.shape[0] - ker.shape[0]) + (2 * padding))/striding + 1) #2+2/2 1\n",
    "    print(oDim)\n",
    "\n",
    "    # padding\n",
    "    inpTen_wp = addPadding(inpTen, padding)\n",
    "    \n",
    "    startCols = ker.shape[0]-1 # start cols would target top right edge of kernel and input array overlap\n",
    "    maxCols = inpTen_wp.shape[0]  #maxCols would be till the end of the input Arry hence \n",
    "    maxRows = inpTen_wp.shape[0] - ker.shape[0] + 1 #max rows will depend upop input and kernel as we dont want kernel to go out of bound of input\n",
    "    \n",
    "    collect = []\n",
    "    [[collect.append(stridingMatMulSum(i, j, ker, inpTen_wp)) for j in range(startCols, maxCols, striding)] for i in range(0, maxRows, striding)];\n",
    "    out = np.array(collect).reshape(oDim, oDim)\n",
    "    return out\n"
   ]
  },
  {
   "cell_type": "code",
   "execution_count": 2,
   "id": "1a15352b-f2f9-4fa4-af99-804fd00f9fb9",
   "metadata": {},
   "outputs": [
    {
     "data": {
      "text/plain": [
       "60000"
      ]
     },
     "execution_count": 2,
     "metadata": {},
     "output_type": "execute_result"
    }
   ],
   "source": [
    "import torchvision \n",
    "import torchvision.datasets\n",
    "\n",
    "data = torchvision.datasets.MNIST(\"~/.data\", train=True, download=False, transform=\"tensor\")\n",
    "len(data)\n",
    "\n"
   ]
  },
  {
   "cell_type": "code",
   "execution_count": 206,
   "id": "90b304e5-502b-420e-96c3-d984c74e152d",
   "metadata": {},
   "outputs": [
    {
     "data": {
      "text/plain": [
       "(60000, 2)"
      ]
     },
     "execution_count": 206,
     "metadata": {},
     "output_type": "execute_result"
    }
   ],
   "source": [
    "\n",
    "data = np.asarray(data, dtype=\"object\")\n",
    "data.shape\n",
    "# np.array(datada)"
   ]
  },
  {
   "cell_type": "code",
   "execution_count": 233,
   "id": "22b00e04-6a1c-4a68-ae86-aeadc93fd0b0",
   "metadata": {},
   "outputs": [
    {
     "name": "stdout",
     "output_type": "stream",
     "text": [
      "Image 1:\n",
      "Tensor Shape: torch.Size([1, 28, 28])\n",
      "Label: 5\n",
      "----------------------------------------\n",
      "Image 2:\n",
      "Tensor Shape: torch.Size([1, 28, 28])\n",
      "Label: 0\n",
      "----------------------------------------\n",
      "Image 3:\n",
      "Tensor Shape: torch.Size([1, 28, 28])\n",
      "Label: 4\n",
      "----------------------------------------\n",
      "Image 4:\n",
      "Tensor Shape: torch.Size([1, 28, 28])\n",
      "Label: 1\n",
      "----------------------------------------\n",
      "Image 5:\n",
      "Tensor Shape: torch.Size([1, 28, 28])\n",
      "Label: 9\n",
      "----------------------------------------\n"
     ]
    }
   ],
   "source": [
    "# Iterate over the DataLoader\n",
    "for batch_idx, (images, labels) in enumerate(train):\n",
    "    # Process only the first 5 images and labels from the batch\n",
    "    for i in range(5):\n",
    "        print(f\"Image {i + 1}:\")\n",
    "        print(f\"Tensor Shape: {images[i].shape}\")  # Shape: [channels, height, width]\n",
    "        # print(f\"Tensor Values: {images[i]}\")      # Tensor values\n",
    "        print(f\"Label: {labels[i]}\")              # Corresponding label\n",
    "        print(\"-\" * 40)\n",
    "    # Exit after processing the first 5 images\n",
    "    break\n"
   ]
  },
  {
   "cell_type": "code",
   "execution_count": 11,
   "id": "51e1ceb4-7942-4934-93d6-43a0d2176312",
   "metadata": {},
   "outputs": [],
   "source": [
    "import torchvision\n",
    "import torchvision.datasets\n",
    "from torch.utils.data import DataLoader\n",
    "from torchvision import transforms\n",
    "\n",
    "transform = transforms.Compose([\n",
    "    transforms.ToTensor(),              \n",
    "])\n",
    "\n",
    "# Create dataset with transforms\n",
    "data = torchvision.datasets.MNIST(\n",
    "    \"~/.data\",\n",
    "    train=True,\n",
    "    download=False,\n",
    "    transform=transform  # Apply the transformations\n",
    ")\n",
    "\n",
    "# Create DataLoader\n",
    "train = DataLoader(data, batch_size=8)\n"
   ]
  },
  {
   "cell_type": "code",
   "execution_count": 22,
   "id": "51aa98cd-d4c8-4920-abb0-94f751ecaa35",
   "metadata": {},
   "outputs": [],
   "source": [
    "def getData_hotEnco(data): \n",
    "    data_bs = []\n",
    "    label = []\n",
    "    \n",
    "    for bs, (image, label) in enumerate(data):\n",
    "        for i in range(5):\n",
    "            data_bs.append(image[i])\n",
    "            # label.append(label[i])\n",
    "        break\n",
    "    \n",
    "    train_np = np.array(data_bs)\n",
    "    label = np.array(label)\n",
    "    \n",
    "    train_np_sq = np.squeeze(train_np)\n",
    "    hot_enco_vect = getHotEnc(label)\n",
    "    return train_np_sq, hot_enco_vect\n",
    "\n",
    "def getHotEnc(label):\n",
    "    hot_enco = []\n",
    "    for i in label:\n",
    "        vect = np.zeros(10)\n",
    "        vect[i] = 1\n",
    "        hot_enco.append(vect)\n",
    "    \n",
    "    hot_enco_np = np.array(hot_enco)\n",
    "    return hot_enco_np"
   ]
  },
  {
   "cell_type": "code",
   "execution_count": 13,
   "id": "5f87b239-14dd-4269-88c8-b3fc08958d32",
   "metadata": {},
   "outputs": [],
   "source": [
    "\n",
    "# adding loss together \n",
    "class Linear:\n",
    "    def __init__(self, bs=8):\n",
    "        self.w1 = np.random.randn(16, 784).astype(np.float32)\n",
    "        self.b1 = np.random.randn(16, 1).astype(np.float32)\n",
    "        self.w2 = np.random.randn(10, 16).astype(np.float32)\n",
    "        self.b2 = np.random.randn(10, 1).astype(np.float32)\n",
    "\n",
    "        \n",
    "    def forward(self, inpTen, target):\n",
    "        self.inpTen = inpTen # 28x28 \n",
    "        self.inpTen = self.inpTen.reshape(784, 1)\n",
    "        \n",
    "        l1 = matmul(self.inpTen, self.w1, self.b1)\n",
    "        l1 = relu(l1)\n",
    "        # ->16x1\n",
    "        out = matmul(l1, self.w2, self.b2)  # 10x16@16x1 -> 10x1\n",
    "        out = out.flatten() #10\n",
    "        \n",
    "        self.preds = softmax(out)\n",
    "\n",
    "        self.loss = crossEntropyLoss(self.preds, target) # y and out should be a vector\n",
    "        # print(\"preds\",self.preds)\n",
    "        print(\"loss:\", self.loss)\n",
    "        return self.preds\n",
    "\n",
    "    def backward(self):\n",
    "        \n",
    "\n",
    "\n",
    "# inpTen = np.float128(np.random.randn(28, 28))\n",
    "# target  = np.array([0,0,0,0,0,1,0,0,0,0])\n",
    "# x = Linear(inpTen)\n",
    "# x.forward(target)\n",
    "\n",
    "# x.getLoss()\n",
    "# calulation of gradinats of the loss wrt weights\n",
    "\n",
    "        \n"
   ]
  },
  {
   "cell_type": "code",
   "execution_count": 1,
   "id": "80fce980-9f89-46d6-8ab7-316825542a82",
   "metadata": {},
   "outputs": [],
   "source": [
    "def LinInit(train):\n",
    "    x = Linear()\n",
    "    x_np, y_np = getData_hotEnco(train)\n",
    "    print(x_np.shape, y_np.shape)\n",
    "    for i in range(2):\n",
    "        print(x.forward(inpTen=x_np[i],target=y_np[i]))\n",
    "\n",
    "# LinInit(train)"
   ]
  },
  {
   "cell_type": "code",
   "execution_count": 7,
   "id": "597b0d21-6a3e-44f5-943d-98d48f04e6f4",
   "metadata": {},
   "outputs": [
    {
     "data": {
      "text/plain": [
       "(10, 1)"
      ]
     },
     "execution_count": 7,
     "metadata": {},
     "output_type": "execute_result"
    }
   ],
   "source": [
    "import numpy as np\n",
    "\n",
    "def weights(dim):\n",
    "    return np.random.randn(dim,1)\n",
    "\n",
    "weights(10).shape"
   ]
  },
  {
   "cell_type": "markdown",
   "id": "4c30c40f-61a3-489c-b193-889a1a71641c",
   "metadata": {},
   "source": [
    "<h1>Backward Prop</h1>"
   ]
  },
  {
   "cell_type": "code",
   "execution_count": null,
   "id": "d4485f60-9f3c-4bf8-bb2c-a09cb7622a2c",
   "metadata": {},
   "outputs": [],
   "source": [
    "Error=> mse(y'2 - y2)"
   ]
  },
  {
   "cell_type": "code",
   "execution_count": null,
   "id": "2fe94c62-08b4-49f6-8ac6-89fc5a27ef52",
   "metadata": {},
   "outputs": [],
   "source": [
    "error rate of change wrt w"
   ]
  },
  {
   "cell_type": "markdown",
   "id": "37a2bbeb-743d-4d96-aca7-d6cceb317c87",
   "metadata": {},
   "source": [
    "<h1>HXWXC</h1>"
   ]
  },
  {
   "cell_type": "markdown",
   "id": "98f8e51f-64f8-4bd7-9842-592f49e33bef",
   "metadata": {},
   "source": [
    "what are gradinats and why do we need them?\n",
    "\n",
    "gradinast is the rate of change of function wrt inputt\n",
    "\n",
    "autograd calculates gradinets and stores them in the resp tensors in .grad \n",
    "\n",
    "\n",
    "autograd keeps tensors -> excuted functions on those tensors -> along with the new tensors"
   ]
  },
  {
   "cell_type": "code",
   "execution_count": 1,
   "id": "c5b5f344-efa2-4abb-943a-621433ec47ba",
   "metadata": {},
   "outputs": [],
   "source": [
    "import matplotlib.pyplot as plt\n",
    "import numpy as np\n",
    "\n",
    "x = np.array([2, 3, 4])\n",
    "y = np.array([6, 8, 12])"
   ]
  },
  {
   "cell_type": "code",
   "execution_count": 62,
   "id": "40103434-859b-4411-825f-48f801f22b0a",
   "metadata": {},
   "outputs": [
    {
     "data": {
      "text/plain": [
       "(array([ 2,  7, 12]), array([ 6,  4, 15]))"
      ]
     },
     "execution_count": 62,
     "metadata": {},
     "output_type": "execute_result"
    }
   ],
   "source": [
    "x, y"
   ]
  },
  {
   "cell_type": "code",
   "execution_count": 63,
   "id": "41a52d6e-d3f5-4fcd-a4f5-b608537e1f17",
   "metadata": {},
   "outputs": [],
   "source": [
    "def q(x, y):\n",
    "    return 3*x**3 - y**2\n"
   ]
  },
  {
   "cell_type": "code",
   "execution_count": 68,
   "id": "50ce2303-df43-4996-8a13-dc0acd622c45",
   "metadata": {},
   "outputs": [],
   "source": [
    "z = q(x, y)"
   ]
  },
  {
   "cell_type": "code",
   "execution_count": 74,
   "id": "ad83b523-ff43-477c-967f-fd30fb32a5c0",
   "metadata": {},
   "outputs": [],
   "source": [
    "f = np.array([-12, 17 , 48])"
   ]
  },
  {
   "cell_type": "code",
   "execution_count": 75,
   "id": "1c438b18-cd15-4ad4-a6e0-07a9202a9ff6",
   "metadata": {},
   "outputs": [
    {
     "name": "stdout",
     "output_type": "stream",
     "text": [
      "[-12  17  48]\n"
     ]
    },
    {
     "data": {
      "text/plain": [
       "array([29., 30., 31.])"
      ]
     },
     "execution_count": 75,
     "metadata": {},
     "output_type": "execute_result"
    }
   ],
   "source": [
    "print(f)\n",
    "np.gradient(f)"
   ]
  },
  {
   "cell_type": "code",
   "execution_count": 112,
   "id": "62920831-0436-4a7e-b14d-b5c5a0f57b06",
   "metadata": {},
   "outputs": [],
   "source": [
    "class backward:\n",
    "    def __init__(self, tensor):\n",
    "        self.tens = np.array(tensor)\n",
    "        self.grad = np.gradient(self.tens)\n",
    "\n",
    "    def __call__(self):\n",
    "        return self.tens\n"
   ]
  },
  {
   "cell_type": "code",
   "execution_count": 139,
   "id": "a2e3847c-2b04-484e-a34f-b5dcdfe3a224",
   "metadata": {},
   "outputs": [],
   "source": [
    "q = backward(f)"
   ]
  },
  {
   "cell_type": "code",
   "execution_count": 138,
   "id": "7f2f6aa9-a75a-4731-80d6-167805bca477",
   "metadata": {},
   "outputs": [
    {
     "ename": "AttributeError",
     "evalue": "'backward' object has no attribute 'backwar'",
     "output_type": "error",
     "traceback": [
      "\u001b[0;31m---------------------------------------------------------------------------\u001b[0m",
      "\u001b[0;31mAttributeError\u001b[0m                            Traceback (most recent call last)",
      "Cell \u001b[0;32mIn[138], line 1\u001b[0m\n\u001b[0;32m----> 1\u001b[0m \u001b[43mq\u001b[49m\u001b[38;5;241;43m.\u001b[39;49m\u001b[43mbackwar\u001b[49m()\n",
      "\u001b[0;31mAttributeError\u001b[0m: 'backward' object has no attribute 'backwar'"
     ]
    }
   ],
   "source": [
    "q.backwar()"
   ]
  },
  {
   "cell_type": "code",
   "execution_count": 142,
   "id": "1ffc2681-51e4-49b8-bfb5-77d048e9f30b",
   "metadata": {},
   "outputs": [
    {
     "data": {
      "text/plain": [
       "array([29.012, 30.   , 30.988])"
      ]
     },
     "execution_count": 142,
     "metadata": {},
     "output_type": "execute_result"
    }
   ],
   "source": [
    "q.grad"
   ]
  },
  {
   "cell_type": "code",
   "execution_count": 136,
   "id": "abc5de07-179c-40e8-8d6d-70f05aab3d65",
   "metadata": {},
   "outputs": [],
   "source": [
    "f[1] = f[1] + (12) * 0.001\n"
   ]
  },
  {
   "cell_type": "code",
   "execution_count": 129,
   "id": "b94eeca1-5ddf-4ce6-b40e-05244017a50f",
   "metadata": {},
   "outputs": [],
   "source": [
    "f[1] = 17.021"
   ]
  },
  {
   "cell_type": "code",
   "execution_count": 134,
   "id": "f7c292a5-11fd-4eed-9620-00c8aa833422",
   "metadata": {},
   "outputs": [],
   "source": [
    "f  = f.astype(\"float\")"
   ]
  },
  {
   "cell_type": "code",
   "execution_count": 3,
   "id": "d6ecaac3-5db7-4e8e-821c-ec9c8682d36c",
   "metadata": {},
   "outputs": [],
   "source": [
    "def relu(x):\n",
    "    return np.max(0, x)"
   ]
  },
  {
   "cell_type": "code",
   "execution_count": 4,
   "id": "ca7386fb-015c-49b5-aca3-a363ae3da02e",
   "metadata": {},
   "outputs": [],
   "source": [
    "def dot(m1, m2):\n",
    "    return np.dot(m1, m2)"
   ]
  },
  {
   "cell_type": "code",
   "execution_count": 7,
   "id": "0d86fc00-f98a-4f12-8e2a-8a289864d757",
   "metadata": {},
   "outputs": [],
   "source": [
    "def loss(y_, y):\n",
    "    return np.sqrt(np.square(y_ - y))"
   ]
  },
  {
   "cell_type": "code",
   "execution_count": 8,
   "id": "d95ed8ba-dcf0-4710-bf10-c5fde3a83c1c",
   "metadata": {},
   "outputs": [
    {
     "data": {
      "text/plain": [
       "5.0"
      ]
     },
     "execution_count": 8,
     "metadata": {},
     "output_type": "execute_result"
    }
   ],
   "source": [
    "loss(-2, 3)"
   ]
  },
  {
   "cell_type": "code",
   "execution_count": 9,
   "id": "241b8174-a90e-403d-b4f2-733bef8a2207",
   "metadata": {},
   "outputs": [],
   "source": [
    "tens = np.random.randn(3,3)"
   ]
  },
  {
   "cell_type": "code",
   "execution_count": 10,
   "id": "187140e8-c36d-4595-9538-2f9828bf42b9",
   "metadata": {},
   "outputs": [
    {
     "data": {
      "text/plain": [
       "array([[1.82130991, 0.65891524, 0.39876975],\n",
       "       [0.70741533, 0.65937678, 0.91816523],\n",
       "       [0.51885255, 0.05000812, 0.30888045]])"
      ]
     },
     "execution_count": 10,
     "metadata": {},
     "output_type": "execute_result"
    }
   ],
   "source": [
    "tens"
   ]
  },
  {
   "cell_type": "code",
   "execution_count": null,
   "id": "e2c7c846-1152-4af7-a638-09153cabe15a",
   "metadata": {},
   "outputs": [],
   "source": [
    "w = w * lr*grad(dL/dw)"
   ]
  },
  {
   "cell_type": "code",
   "execution_count": null,
   "id": "51f3cb97-acf0-418c-9b9d-946e06ad7609",
   "metadata": {},
   "outputs": [],
   "source": [
    "dL/dW = L/softmax * softmax/relu * relu/w "
   ]
  },
  {
   "cell_type": "code",
   "execution_count": null,
   "id": "555280da-ff5e-48e1-bfb0-83ae9aaa7244",
   "metadata": {},
   "outputs": [],
   "source": [
    "loss = x - x'\n",
    "f(x)= x - x'\n",
    "\n"
   ]
  },
  {
   "cell_type": "code",
   "execution_count": null,
   "id": "3e0e1cc4-0971-403f-bf73-dd85db71176a",
   "metadata": {},
   "outputs": [],
   "source": [
    "# m1 -> 28x28 -> 784 dot \n",
    "# m2 -> \n",
    "\n",
    "def matMul(m1, m2)"
   ]
  },
  {
   "cell_type": "code",
   "execution_count": null,
   "id": "82c4d642-b17b-48d5-98a1-26b2503359ae",
   "metadata": {},
   "outputs": [],
   "source": [
    "def chunkz(x, bs):\n",
    "    for i in range(0, len(x), sz): yield x[i+ i+sz]\n"
   ]
  },
  {
   "cell_type": "code",
   "execution_count": 2,
   "id": "dc9fbac9-99d9-41ee-998e-1db739d4303a",
   "metadata": {},
   "outputs": [],
   "source": [
    "import numpy as np"
   ]
  },
  {
   "cell_type": "code",
   "execution_count": 4,
   "id": "d382251d-c63e-4e04-89bc-debc5cbbb36c",
   "metadata": {},
   "outputs": [],
   "source": [
    "img = np.random.randint(0, 255, size=(728, 1))"
   ]
  },
  {
   "cell_type": "code",
   "execution_count": 7,
   "id": "64bcfb3c-8c7b-4d7b-aa7b-3a74522b584a",
   "metadata": {},
   "outputs": [],
   "source": [
    "img = img.reshape(728, 1)"
   ]
  },
  {
   "cell_type": "code",
   "execution_count": 10,
   "id": "9af81d4e-0134-453a-9a6e-65deef0b818c",
   "metadata": {},
   "outputs": [],
   "source": [
    "weights = np.random.randn(128, 1)"
   ]
  },
  {
   "cell_type": "code",
   "execution_count": 13,
   "id": "3692609c-48ce-4558-b383-4f9b17846132",
   "metadata": {},
   "outputs": [
    {
     "data": {
      "text/plain": [
       "((128, 1), (728, 1))"
      ]
     },
     "execution_count": 13,
     "metadata": {},
     "output_type": "execute_result"
    }
   ],
   "source": [
    "weights.shape, img.shape"
   ]
  },
  {
   "cell_type": "code",
   "execution_count": 18,
   "id": "eafacb89-7ee2-410f-842d-878b373cb0ea",
   "metadata": {},
   "outputs": [
    {
     "data": {
      "text/latex": [
       "$\\displaystyle 2 x$"
      ],
      "text/plain": [
       "2*x"
      ]
     },
     "execution_count": 18,
     "metadata": {},
     "output_type": "execute_result"
    }
   ],
   "source": [
    "from sympy import symbols,diff\n",
    "x,y = symbols('x y')\n",
    "diff(x**2, x)"
   ]
  },
  {
   "cell_type": "code",
   "execution_count": 19,
   "id": "6d7c76f9-af64-4723-bd6c-bb7c0d3bb168",
   "metadata": {},
   "outputs": [],
   "source": [
    "def lin_grad(inp, out, w, b):\n",
    "    inp.g = out.g @ w.t()\n",
    "    w.g = (inp.unsqueeze(-1)  *  out.g.unsqueeze(1)).sum(0)\n",
    "    b.g = out.g.sum(0)\n",
    "    "
   ]
  },
  {
   "cell_type": "code",
   "execution_count": null,
   "id": "87148b59-9ee1-41bf-8f92-6e40ad8f3923",
   "metadata": {},
   "outputs": [],
   "source": [
    "def for_and_back(inp, targ):\n",
    "    l1= lin(inp, w1, b1)\n",
    "    l2 = relu(l1)\n",
    "    out = lin(l2, w2, b2)\n",
    "    diff = out[:, 0] - targ\n",
    "    loss = diff.pow(2).mean()\n",
    "\n",
    "    # backward pass \n",
    "    out.g = 2.diff[:, None] / inp.shape[0]\n",
    "    lin_grad(l2, out, w2, b2)\n",
    "    l1.g"
   ]
  },
  {
   "cell_type": "code",
   "execution_count": 25,
   "id": "839dd712-fb90-4c4b-9b36-88e0caade876",
   "metadata": {},
   "outputs": [
    {
     "data": {
      "text/latex": [
       "$\\displaystyle \\frac{0.707106781186548}{x^{0.5}}$"
      ],
      "text/plain": [
       "0.707106781186548/x**0.5"
      ]
     },
     "execution_count": 25,
     "metadata": {},
     "output_type": "execute_result"
    }
   ],
   "source": [
    "# loss = \n"
   ]
  },
  {
   "cell_type": "code",
   "execution_count": 26,
   "id": "e485b7e7-930a-4e0b-90e3-69a67b2620f8",
   "metadata": {},
   "outputs": [],
   "source": [
    "\n",
    "def forward_and_backward(inp, targ):\n",
    "    # forward pass:\n",
    "    l1 = lin(inp, w1, b1)\n",
    "    l2 = relu(l1)\n",
    "    out = lin(l2, w2, b2)\n",
    "    diff = out[:,0]-targ\n",
    "    loss = diff.pow(2).mean()\n",
    "    \n",
    "    # backward pass:\n",
    "    out.g = 2.*diff[:,None] / inp.shape[0]\n",
    "    lin_grad(l2, out, w2, b2)\n",
    "    l1.g = (l1>0).float() * l2.g\n",
    "    lin_grad(inp, l1, w1, b1)\n",
    "     "
   ]
  },
  {
   "cell_type": "code",
   "execution_count": 28,
   "id": "e4cd8761-3444-40ff-9430-a413843e0ea5",
   "metadata": {},
   "outputs": [],
   "source": [
    "def lin_grad(inp, out, w, b):\n",
    "    # grad of matmul with respect to input\n",
    "    inp.g = out.g @ w.t()\n",
    "    print(inp.g.shape)\n",
    "    w.g = (inp.unsqueeze(-1) * out.g.unsqueeze(1)).sum(0)\n",
    "    print(w.g.shape)\n",
    "    b.g = out.g.sum(0)\n",
    "    print(b.g.shape)"
   ]
  },
  {
   "cell_type": "code",
   "execution_count": 36,
   "id": "17407704-65b3-47f4-9264-4440c4f3d1ed",
   "metadata": {},
   "outputs": [],
   "source": [
    "def lin(inp, w1, b1):\n",
    "    return inp@w1 + b1\n",
    "\n",
    "l2 = lin(img, weights.T, 0)\n"
   ]
  },
  {
   "cell_type": "code",
   "execution_count": 49,
   "id": "9b655ba0-9f5e-4daf-991a-ac38f4e14edb",
   "metadata": {},
   "outputs": [],
   "source": [
    "def relu(inp):\n",
    "    return np.max(0, inp)"
   ]
  },
  {
   "cell_type": "code",
   "execution_count": 64,
   "id": "28433d92-67b9-4653-bf6f-87cc2aa674fc",
   "metadata": {},
   "outputs": [],
   "source": [
    "\n",
    "x = np.random.randn(3,3)\n",
    "# x =x.flatten().reshape(9)"
   ]
  },
  {
   "cell_type": "code",
   "execution_count": 67,
   "id": "7166821c-5e5d-44c4-8749-3c766992a43a",
   "metadata": {},
   "outputs": [
    {
     "data": {
      "text/plain": [
       "(3, 1, 3)"
      ]
     },
     "execution_count": 67,
     "metadata": {},
     "output_type": "execute_result"
    }
   ],
   "source": [
    "x[:, None, :].shape"
   ]
  },
  {
   "cell_type": "code",
   "execution_count": 37,
   "id": "f2c3f410-6f5a-43ae-b906-375f228accca",
   "metadata": {},
   "outputs": [
    {
     "data": {
      "text/plain": [
       "(728, 128)"
      ]
     },
     "execution_count": 37,
     "metadata": {},
     "output_type": "execute_result"
    }
   ],
   "source": [
    "l2.shape"
   ]
  },
  {
   "cell_type": "code",
   "execution_count": 35,
   "id": "c6287093-33bc-40de-b68d-29885c259876",
   "metadata": {},
   "outputs": [
    {
     "name": "stdout",
     "output_type": "stream",
     "text": [
      "(1, 728) (1, 128)\n"
     ]
    }
   ],
   "source": [
    "print(img.T.shape, weights.T.shape)"
   ]
  }
 ],
 "metadata": {
  "kernelspec": {
   "display_name": "Python 3 (ipykernel)",
   "language": "python",
   "name": "python3"
  },
  "language_info": {
   "codemirror_mode": {
    "name": "ipython",
    "version": 3
   },
   "file_extension": ".py",
   "mimetype": "text/x-python",
   "name": "python",
   "nbconvert_exporter": "python",
   "pygments_lexer": "ipython3",
   "version": "3.12.3"
  }
 },
 "nbformat": 4,
 "nbformat_minor": 5
}
